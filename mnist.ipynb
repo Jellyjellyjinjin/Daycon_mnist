{
  "nbformat": 4,
  "nbformat_minor": 0,
  "metadata": {
    "colab": {
      "provenance": [],
      "gpuType": "T4",
      "include_colab_link": true
    },
    "kernelspec": {
      "name": "python3",
      "display_name": "Python 3"
    },
    "language_info": {
      "name": "python"
    },
    "accelerator": "GPU",
    "gpuClass": "standard"
  },
  "cells": [
    {
      "cell_type": "markdown",
      "metadata": {
        "id": "view-in-github",
        "colab_type": "text"
      },
      "source": [
        "<a href=\"https://colab.research.google.com/github/Jellyjellyjinjin/Daycon_mnist/blob/main/mnist.ipynb\" target=\"_parent\"><img src=\"https://colab.research.google.com/assets/colab-badge.svg\" alt=\"Open In Colab\"/></a>"
      ]
    },
    {
      "cell_type": "code",
      "execution_count": null,
      "metadata": {
        "id": "Lmwg7ZH3T_dt",
        "colab": {
          "base_uri": "https://localhost:8080/"
        },
        "outputId": "63241e1b-5c1a-41f5-f88c-121ea4be4987"
      },
      "outputs": [
        {
          "output_type": "stream",
          "name": "stderr",
          "text": [
            "<ipython-input-1-17ef75b23a8b>:6: MatplotlibDeprecationWarning: The seaborn styles shipped by Matplotlib are deprecated since 3.6, as they no longer correspond to the styles shipped by seaborn. However, they will remain available as 'seaborn-v0_8-<style>'. Alternatively, directly use the seaborn API instead.\n",
            "  plt.style.use('seaborn-white')\n"
          ]
        }
      ],
      "source": [
        "import pandas as pd\n",
        "import numpy as np\n",
        "import matplotlib.pyplot as plt\n",
        "import seaborn as sns\n",
        "import matplotlib.pyplot as plt\n",
        "plt.style.use('seaborn-white')\n",
        "import warnings\n",
        "warnings.filterwarnings(\"ignore\")\n",
        "import tensorflow as tf\n",
        "from keras.preprocessing.image import ImageDataGenerator\n",
        "from sklearn.model_selection import train_test_split\n",
        "from sklearn.model_selection import StratifiedKFold\n",
        "from keras import Sequential\n",
        "from tensorflow.keras.layers import BatchNormalization\n",
        "from keras.optimizers import Adam\n",
        "from numpy import expand_dims\n",
        "from keras.layers import Dense, Flatten,Conv2D,MaxPool2D,Dropout,Input\n",
        "from keras.callbacks import EarlyStopping, ModelCheckpoint, ReduceLROnPlateau"
      ]
    },
    {
      "cell_type": "code",
      "source": [
        "train = pd.read_csv('./train.csv')\n",
        "test = pd.read_csv('./test.csv')"
      ],
      "metadata": {
        "id": "BJdz2foFUq9P"
      },
      "execution_count": null,
      "outputs": []
    },
    {
      "cell_type": "code",
      "source": [
        "train2 = train.drop(['id', 'digit', 'letter'], axis=1).values\n",
        "train2 = train2.reshape(-1, 28, 28, 1)\n",
        "train2 = train2/255\n",
        "\n",
        "def one_hot_encoder(x):\n",
        "    y = np.zeros((len(x), len(np.unique(x))))\n",
        "    for i, num in enumerate(x):\n",
        "        y[i][num] = 1\n",
        "    return y\n",
        "\n",
        "y_target = one_hot_encoder(train['digit'])"
      ],
      "metadata": {
        "id": "aNY_iboplMgA"
      },
      "execution_count": null,
      "outputs": []
    },
    {
      "cell_type": "code",
      "source": [
        "x_train,x_valid,y_train, y_valid = train_test_split(train2,y_target, test_size = 0.1)"
      ],
      "metadata": {
        "id": "-zoXjckbYWCQ"
      },
      "execution_count": null,
      "outputs": []
    },
    {
      "cell_type": "code",
      "source": [
        "idg = ImageDataGenerator(\n",
        "    width_shift_range = (-1,1),\n",
        "    height_shift_range = (-1,1),\n",
        "    horizontal_flip = False,\n",
        "    vertical_flip = False)\n",
        "\n",
        "idg2 = ImageDataGenerator()"
      ],
      "metadata": {
        "id": "ws4vbGt4YgMg"
      },
      "execution_count": null,
      "outputs": []
    },
    {
      "cell_type": "code",
      "source": [
        "train_generator = idg.flow(x_train,y_train)\n",
        "valid_generator = idg2.flow(x_valid,y_valid)"
      ],
      "metadata": {
        "id": "T6j8yGVwqf0l"
      },
      "execution_count": null,
      "outputs": []
    },
    {
      "cell_type": "code",
      "source": [
        "def build_model (train):\n",
        "  inputs = tf.keras.layers.Input(train.shape[1:])\n",
        "\n",
        "  output = Conv2D(filters = 16, kernel_size = 3,activation = 'relu', padding = 'same')(inputs)\n",
        "  output = BatchNormalization()(output)\n",
        "\n",
        "  output = Conv2D(filters = 128, kernel_size = 5,activation = 'relu', padding = 'same')(output)\n",
        "  output = BatchNormalization()(output)\n",
        "  output = Conv2D(filters = 128, kernel_size = 2,activation = 'relu', padding = 'same')(output)\n",
        "  output = BatchNormalization()(output)\n",
        "  output = Conv2D(filters = 128, kernel_size = 2,activation = 'relu', padding = 'valid')(output)\n",
        "  output = MaxPool2D(strides = (2,2))(output)\n",
        "  output = Dropout(0.3)(output)\n",
        "\n",
        "  output = BatchNormalization()(output)\n",
        "  output = Conv2D(filters = 256, kernel_size = 2,activation = 'relu', padding = 'same')(output)\n",
        "  output = BatchNormalization()(output)\n",
        "  output = Conv2D(filters = 256, kernel_size = 2,activation = 'relu', padding = 'same')(output)\n",
        "  output = MaxPool2D(strides = (2,2))(output)\n",
        "  output = Dropout(0.3)(output)\n",
        "\n",
        "\n",
        "  output = Flatten()(output)\n",
        "  output = BatchNormalization()(output)\n",
        "  output = Dense(1000, activation = 'relu')(output)\n",
        "  output = BatchNormalization()(output)\n",
        "  output = Dropout(0.5)(output)\n",
        "  output = Dense(256, activation = 'relu')(output)\n",
        "  output = BatchNormalization()(output)\n",
        "  output = Dropout(0.5)(output)\n",
        "  output = Dense(10, activation = 'softmax')(output)\n",
        "\n",
        "  model = tf.keras.models.Model(inputs=inputs, outputs= output)\n",
        "\n",
        "  model.compile(optimizer = 'adam',\n",
        "                loss = 'categorical_crossentropy',\n",
        "                metrics = ['acc'])\n",
        "  return model\n",
        "\n"
      ],
      "metadata": {
        "id": "bO0JVTdxYimL"
      },
      "execution_count": null,
      "outputs": []
    },
    {
      "cell_type": "code",
      "source": [
        "model = build_model(x_train)\n"
      ],
      "metadata": {
        "id": "Gyj8U0ijUwBI"
      },
      "execution_count": null,
      "outputs": []
    },
    {
      "cell_type": "code",
      "source": [
        "history = model.fit_generator(train_generator, epochs = 30,\n",
        "                    validation_data= valid_generator\n",
        "                    )"
      ],
      "metadata": {
        "colab": {
          "base_uri": "https://localhost:8080/"
        },
        "id": "MemUugUaqU8-",
        "outputId": "db0e5d77-905e-469d-c08c-1e4c3e9421af"
      },
      "execution_count": null,
      "outputs": [
        {
          "output_type": "stream",
          "name": "stdout",
          "text": [
            "Epoch 1/30\n",
            "58/58 [==============================] - 9s 39ms/step - loss: 2.8883 - acc: 0.2355 - val_loss: 5.2819 - val_acc: 0.0927\n",
            "Epoch 2/30\n",
            "58/58 [==============================] - 2s 28ms/step - loss: 2.0847 - acc: 0.3755 - val_loss: 7.0698 - val_acc: 0.0927\n",
            "Epoch 3/30\n",
            "58/58 [==============================] - 2s 28ms/step - loss: 1.7031 - acc: 0.4639 - val_loss: 11.8447 - val_acc: 0.0927\n",
            "Epoch 4/30\n",
            "58/58 [==============================] - 2s 28ms/step - loss: 1.4268 - acc: 0.5399 - val_loss: 7.0823 - val_acc: 0.0927\n",
            "Epoch 5/30\n",
            "58/58 [==============================] - 2s 27ms/step - loss: 1.2207 - acc: 0.6077 - val_loss: 7.1739 - val_acc: 0.0927\n",
            "Epoch 6/30\n",
            "58/58 [==============================] - 2s 33ms/step - loss: 1.1081 - acc: 0.6468 - val_loss: 14.2892 - val_acc: 0.0927\n",
            "Epoch 7/30\n",
            "58/58 [==============================] - 2s 29ms/step - loss: 0.9960 - acc: 0.6696 - val_loss: 10.0517 - val_acc: 0.0927\n",
            "Epoch 8/30\n",
            "58/58 [==============================] - 2s 28ms/step - loss: 0.9144 - acc: 0.6967 - val_loss: 8.2739 - val_acc: 0.0927\n",
            "Epoch 9/30\n",
            "58/58 [==============================] - 2s 28ms/step - loss: 0.7765 - acc: 0.7406 - val_loss: 6.8790 - val_acc: 0.0927\n",
            "Epoch 10/30\n",
            "58/58 [==============================] - 2s 28ms/step - loss: 0.7644 - acc: 0.7547 - val_loss: 5.9081 - val_acc: 0.1317\n",
            "Epoch 11/30\n",
            "58/58 [==============================] - 2s 27ms/step - loss: 0.7326 - acc: 0.7602 - val_loss: 2.6131 - val_acc: 0.3659\n",
            "Epoch 12/30\n",
            "58/58 [==============================] - 2s 36ms/step - loss: 0.6142 - acc: 0.7911 - val_loss: 2.5298 - val_acc: 0.4439\n",
            "Epoch 13/30\n",
            "58/58 [==============================] - 2s 31ms/step - loss: 0.5570 - acc: 0.8150 - val_loss: 1.0591 - val_acc: 0.6439\n",
            "Epoch 14/30\n",
            "58/58 [==============================] - 2s 28ms/step - loss: 0.5408 - acc: 0.8079 - val_loss: 0.8724 - val_acc: 0.7122\n",
            "Epoch 15/30\n",
            "58/58 [==============================] - 2s 28ms/step - loss: 0.4731 - acc: 0.8416 - val_loss: 0.8126 - val_acc: 0.7122\n",
            "Epoch 16/30\n",
            "58/58 [==============================] - 2s 27ms/step - loss: 0.4911 - acc: 0.8302 - val_loss: 0.8398 - val_acc: 0.7366\n",
            "Epoch 17/30\n",
            "58/58 [==============================] - 2s 27ms/step - loss: 0.3837 - acc: 0.8709 - val_loss: 0.8948 - val_acc: 0.7122\n",
            "Epoch 18/30\n",
            "58/58 [==============================] - 2s 31ms/step - loss: 0.3731 - acc: 0.8698 - val_loss: 0.6959 - val_acc: 0.7659\n",
            "Epoch 19/30\n",
            "58/58 [==============================] - 2s 34ms/step - loss: 0.3622 - acc: 0.8757 - val_loss: 0.7434 - val_acc: 0.7854\n",
            "Epoch 20/30\n",
            "58/58 [==============================] - 2s 27ms/step - loss: 0.3305 - acc: 0.8882 - val_loss: 0.5580 - val_acc: 0.8000\n",
            "Epoch 21/30\n",
            "58/58 [==============================] - 2s 27ms/step - loss: 0.3211 - acc: 0.8899 - val_loss: 0.8318 - val_acc: 0.7317\n",
            "Epoch 22/30\n",
            "58/58 [==============================] - 2s 27ms/step - loss: 0.3311 - acc: 0.8877 - val_loss: 0.7131 - val_acc: 0.7561\n",
            "Epoch 23/30\n",
            "58/58 [==============================] - 2s 27ms/step - loss: 0.2904 - acc: 0.9061 - val_loss: 0.6849 - val_acc: 0.8098\n",
            "Epoch 24/30\n",
            "58/58 [==============================] - 2s 37ms/step - loss: 0.2729 - acc: 0.9116 - val_loss: 0.5466 - val_acc: 0.8195\n",
            "Epoch 25/30\n",
            "58/58 [==============================] - 2s 33ms/step - loss: 0.2594 - acc: 0.9121 - val_loss: 1.0936 - val_acc: 0.7415\n",
            "Epoch 26/30\n",
            "58/58 [==============================] - 2s 33ms/step - loss: 0.2530 - acc: 0.9148 - val_loss: 0.6632 - val_acc: 0.8049\n",
            "Epoch 27/30\n",
            "58/58 [==============================] - 2s 27ms/step - loss: 0.2440 - acc: 0.9154 - val_loss: 0.7183 - val_acc: 0.8049\n",
            "Epoch 28/30\n",
            "58/58 [==============================] - 2s 29ms/step - loss: 0.2243 - acc: 0.9202 - val_loss: 0.6254 - val_acc: 0.8098\n",
            "Epoch 29/30\n",
            "58/58 [==============================] - 2s 36ms/step - loss: 0.1952 - acc: 0.9295 - val_loss: 0.6127 - val_acc: 0.8000\n",
            "Epoch 30/30\n",
            "58/58 [==============================] - 2s 27ms/step - loss: 0.2029 - acc: 0.9289 - val_loss: 0.5465 - val_acc: 0.8293\n"
          ]
        }
      ]
    },
    {
      "cell_type": "code",
      "source": [
        "fig = plt.figure(figsize = (15,4))\n",
        "ax1 = fig.add_subplot(2, 1, 1)\n",
        "ax1.plot(history.history['loss'], 'b--', label = 'loss')\n",
        "ax1.plot(history.history['val_loss'], 'r--', label = 'val_loss')\n",
        "plt.xlabel('Epochs')\n",
        "plt.grid()\n",
        "plt.legend()\n",
        "\n",
        "\n",
        "ax2 = fig.add_subplot(2, 1, 2)\n",
        "ax2.plot(history.history['acc'], 'b--', label = 'accuracy')\n",
        "ax2.plot(history.history['val_acc'], 'r--', label = 'val_accuracy')\n",
        "plt.xlabel('Epochs')\n",
        "plt.grid()\n",
        "plt.legend()\n",
        "plt.show()"
      ],
      "metadata": {
        "colab": {
          "base_uri": "https://localhost:8080/",
          "height": 383
        },
        "id": "IyCQCYvyLzTy",
        "outputId": "a01a8133-62bd-441a-fbb7-1e5b886e7a88"
      },
      "execution_count": null,
      "outputs": [
        {
          "output_type": "display_data",
          "data": {
            "text/plain": [
              "<Figure size 1500x400 with 2 Axes>"
            ],
            "image/png": "[encoded data removed]"
          },
          "metadata": {}
        }
      ]
    },
    {
      "cell_type": "code",
      "source": [
        "sub = pd.read_csv('./submission.csv')\n",
        "test2 = test.drop(['id','letter'],1)\n",
        "test2 = test2.values\n",
        "test2 = test2.reshape(-1,28,28,1)\n",
        "test2 = test2/255.0"
      ],
      "metadata": {
        "id": "OsjV32ljYtSX"
      },
      "execution_count": null,
      "outputs": []
    },
    {
      "cell_type": "code",
      "source": [
        "sub['digit'] = np.argmax(model.predict(test2), axis=1)\n",
        "sub.head() # 파일 확인"
      ],
      "metadata": {
        "id": "-Ou8P2RJVVpR",
        "colab": {
          "base_uri": "https://localhost:8080/",
          "height": 224
        },
        "outputId": "6ea7ae3a-96a2-4324-895d-afd4a7be00d9"
      },
      "execution_count": null,
      "outputs": [
        {
          "output_type": "stream",
          "name": "stdout",
          "text": [
            "640/640 [==============================] - 4s 6ms/step\n"
          ]
        },
        {
          "output_type": "execute_result",
          "data": {
            "text/plain": [
              "     id  digit\n",
              "0  2049      6\n",
              "1  2050      0\n",
              "2  2051      8\n",
              "3  2052      0\n",
              "4  2053      3"
            ],
            "text/html": [
              "\n",
              "  <div id=\"df-461e45b0-2dac-4b6b-b031-6a2e5297606b\">\n",
              "    <div class=\"colab-df-container\">\n",
              "      <div>\n",
              "<style scoped>\n",
              "    .dataframe tbody tr th:only-of-type {\n",
              "        vertical-align: middle;\n",
              "    }\n",
              "\n",
              "    .dataframe tbody tr th {\n",
              "        vertical-align: top;\n",
              "    }\n",
              "\n",
              "    .dataframe thead th {\n",
              "        text-align: right;\n",
              "    }\n",
              "</style>\n",
              "<table border=\"1\" class=\"dataframe\">\n",
              "  <thead>\n",
              "    <tr style=\"text-align: right;\">\n",
              "      <th></th>\n",
              "      <th>id</th>\n",
              "      <th>digit</th>\n",
              "    </tr>\n",
              "  </thead>\n",
              "  <tbody>\n",
              "    <tr>\n",
              "      <th>0</th>\n",
              "      <td>2049</td>\n",
              "      <td>6</td>\n",
              "    </tr>\n",
              "    <tr>\n",
              "      <th>1</th>\n",
              "      <td>2050</td>\n",
              "      <td>0</td>\n",
              "    </tr>\n",
              "    <tr>\n",
              "      <th>2</th>\n",
              "      <td>2051</td>\n",
              "      <td>8</td>\n",
              "    </tr>\n",
              "    <tr>\n",
              "      <th>3</th>\n",
              "      <td>2052</td>\n",
              "      <td>0</td>\n",
              "    </tr>\n",
              "    <tr>\n",
              "      <th>4</th>\n",
              "      <td>2053</td>\n",
              "      <td>3</td>\n",
              "    </tr>\n",
              "  </tbody>\n",
              "</table>\n",
              "</div>\n",
              "      <button class=\"colab-df-convert\" onclick=\"convertToInteractive('df-461e45b0-2dac-4b6b-b031-6a2e5297606b')\"\n",
              "              title=\"Convert this dataframe to an interactive table.\"\n",
              "              style=\"display:none;\">\n",
              "        \n",
              "  <svg xmlns=\"http://www.w3.org/2000/svg\" height=\"24px\"viewBox=\"0 0 24 24\"\n",
              "       width=\"24px\">\n",
              "    <path d=\"M0 0h24v24H0V0z\" fill=\"none\"/>\n",
              "    <path d=\"M18.56 5.44l.94 2.06.94-2.06 2.06-.94-2.06-.94-.94-2.06-.94 2.06-2.06.94zm-11 1L8.5 8.5l.94-2.06 2.06-.94-2.06-.94L8.5 2.5l-.94 2.06-2.06.94zm10 10l.94 2.06.94-2.06 2.06-.94-2.06-.94-.94-2.06-.94 2.06-2.06.94z\"/><path d=\"M17.41 7.96l-1.37-1.37c-.4-.4-.92-.59-1.43-.59-.52 0-1.04.2-1.43.59L10.3 9.45l-7.72 7.72c-.78.78-.78 2.05 0 2.83L4 21.41c.39.39.9.59 1.41.59.51 0 1.02-.2 1.41-.59l7.78-7.78 2.81-2.81c.8-.78.8-2.07 0-2.86zM5.41 20L4 18.59l7.72-7.72 1.47 1.35L5.41 20z\"/>\n",
              "  </svg>\n",
              "      </button>\n",
              "      \n",
              "  <style>\n",
              "    .colab-df-container {\n",
              "      display:flex;\n",
              "      flex-wrap:wrap;\n",
              "      gap: 12px;\n",
              "    }\n",
              "\n",
              "    .colab-df-convert {\n",
              "      background-color: #E8F0FE;\n",
              "      border: none;\n",
              "      border-radius: 50%;\n",
              "      cursor: pointer;\n",
              "      display: none;\n",
              "      fill: #1967D2;\n",
              "      height: 32px;\n",
              "      padding: 0 0 0 0;\n",
              "      width: 32px;\n",
              "    }\n",
              "\n",
              "    .colab-df-convert:hover {\n",
              "      background-color: #E2EBFA;\n",
              "      box-shadow: 0px 1px 2px rgba(60, 64, 67, 0.3), 0px 1px 3px 1px rgba(60, 64, 67, 0.15);\n",
              "      fill: #174EA6;\n",
              "    }\n",
              "\n",
              "    [theme=dark] .colab-df-convert {\n",
              "      background-color: #3B4455;\n",
              "      fill: #D2E3FC;\n",
              "    }\n",
              "\n",
              "    [theme=dark] .colab-df-convert:hover {\n",
              "      background-color: #434B5C;\n",
              "      box-shadow: 0px 1px 3px 1px rgba(0, 0, 0, 0.15);\n",
              "      filter: drop-shadow(0px 1px 2px rgba(0, 0, 0, 0.3));\n",
              "      fill: #FFFFFF;\n",
              "    }\n",
              "  </style>\n",
              "\n",
              "      <script>\n",
              "        const buttonEl =\n",
              "          document.querySelector('#df-461e45b0-2dac-4b6b-b031-6a2e5297606b button.colab-df-convert');\n",
              "        buttonEl.style.display =\n",
              "          google.colab.kernel.accessAllowed ? 'block' : 'none';\n",
              "\n",
              "        async function convertToInteractive(key) {\n",
              "          const element = document.querySelector('#df-461e45b0-2dac-4b6b-b031-6a2e5297606b');\n",
              "          const dataTable =\n",
              "            await google.colab.kernel.invokeFunction('convertToInteractive',\n",
              "                                                     [key], {});\n",
              "          if (!dataTable) return;\n",
              "\n",
              "          const docLinkHtml = 'Like what you see? Visit the ' +\n",
              "            '<a target=\"_blank\" href=https://colab.research.google.com/notebooks/data_table.ipynb>data table notebook</a>'\n",
              "            + ' to learn more about interactive tables.';\n",
              "          element.innerHTML = '';\n",
              "          dataTable['output_type'] = 'display_data';\n",
              "          await google.colab.output.renderOutput(dataTable, element);\n",
              "          const docLink = document.createElement('div');\n",
              "          docLink.innerHTML = docLinkHtml;\n",
              "          element.appendChild(docLink);\n",
              "        }\n",
              "      </script>\n",
              "    </div>\n",
              "  </div>\n",
              "  "
            ]
          },
          "metadata": {},
          "execution_count": 75
        }
      ]
    },
    {
      "cell_type": "code",
      "source": [
        "sub.to_csv('daycon1.csv', index=False)"
      ],
      "metadata": {
        "id": "D9wwu2UlVaks"
      },
      "execution_count": null,
      "outputs": []
    },
    {
      "cell_type": "code",
      "source": [],
      "metadata": {
        "id": "Ja09o2Btko0D"
      },
      "execution_count": null,
      "outputs": []
    },
    {
      "cell_type": "code",
      "source": [],
      "metadata": {
        "id": "J-Z-OGbokst7"
      },
      "execution_count": null,
      "outputs": []
    }
  ]
}